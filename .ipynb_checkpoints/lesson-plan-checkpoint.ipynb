{
 "cells": [
  {
   "cell_type": "markdown",
   "metadata": {},
   "source": [
    "### Questions\n",
    "* git merge lab - git push origin master threw an error\n",
    "* git log --graph"
   ]
  },
  {
   "cell_type": "markdown",
   "metadata": {},
   "source": [
    "### Objectives\n",
    "YWBAT\n",
    "* define git\n",
    "* perform branching and merges in git (remotely)\n",
    "* compare and contrast git commit to git push\n",
    "* explain why pep8 is so important to the python community\n",
    "* modify code to pep8 standards"
   ]
  },
  {
   "cell_type": "markdown",
   "metadata": {},
   "source": [
    "### Outline\n",
    "* Git stuff \n",
    "* Pep-8"
   ]
  },
  {
   "cell_type": "code",
   "execution_count": 1,
   "metadata": {},
   "outputs": [],
   "source": [
    "import pandas as pd\n",
    "import numpy as np\n",
    "\n",
    "import matplotlib.pyplot as plt"
   ]
  },
  {
   "cell_type": "markdown",
   "metadata": {},
   "source": [
    "### Let's do git stuff on terminal for the first half of the study group\n",
    "\n",
    "\n",
    "**Things we'll do**\n",
    "- Make a branch of this lesson\n",
    "- Merge the branch with the master branch\n",
    "- Push changes to github and view results"
   ]
  },
  {
   "cell_type": "markdown",
   "metadata": {},
   "source": [
    "# Pep 8 Standards"
   ]
  },
  {
   "cell_type": "code",
   "execution_count": 1,
   "metadata": {},
   "outputs": [
    {
     "data": {
      "text/plain": [
       "8"
      ]
     },
     "execution_count": 1,
     "metadata": {},
     "output_type": "execute_result"
    }
   ],
   "source": [
    "# Fix this coding cell\n",
    "x = 3\n",
    "y = 5\n",
    "x + y"
   ]
  },
  {
   "cell_type": "code",
   "execution_count": 2,
   "metadata": {},
   "outputs": [
    {
     "data": {
      "text/plain": [
       "16"
      ]
     },
     "execution_count": 2,
     "metadata": {},
     "output_type": "execute_result"
    }
   ],
   "source": [
    "# Now this one \n",
    "# camel case thisIsCamelCase\n",
    "# this_is_snake_case\n",
    "# variables/methods/almost everything -> lowercase\n",
    "# classes -> uppercase\n",
    "\n",
    "well_this_is_cool = lambda x: 2*x\n",
    "\n",
    "well_this_is_cool(8)"
   ]
  },
  {
   "cell_type": "code",
   "execution_count": 4,
   "metadata": {},
   "outputs": [
    {
     "name": "stdout",
     "output_type": "stream",
     "text": [
      "False\n"
     ]
    }
   ],
   "source": [
    "## Now also fix this one...\n",
    "whats_in_name = 2\n",
    "montague = 1\n",
    "capulet = 0\n",
    "\n",
    "print((montague + capulet) == whats_in_name)"
   ]
  },
  {
   "cell_type": "code",
   "execution_count": 5,
   "metadata": {},
   "outputs": [
    {
     "name": "stdout",
     "output_type": "stream",
     "text": [
      "5\n"
     ]
    }
   ],
   "source": [
    "#time to write functions!...not really, we're pep-8ing some stuff\n",
    "\n",
    "def my_function(a, b, c, d):\n",
    "    return a*b + c - d \n",
    "\n",
    "\n",
    "print(my_function(3, 4, 2, 9))"
   ]
  },
  {
   "cell_type": "markdown",
   "metadata": {},
   "source": [
    "### Let's do some matplotlib stuff real quick, also"
   ]
  },
  {
   "cell_type": "code",
   "execution_count": 6,
   "metadata": {},
   "outputs": [],
   "source": [
    "import numpy as np\n",
    "\n",
    "import matplotlib.pyplot as plt"
   ]
  },
  {
   "cell_type": "code",
   "execution_count": 7,
   "metadata": {},
   "outputs": [],
   "source": [
    "x = np.random.normal(0, 20, 200)"
   ]
  },
  {
   "cell_type": "code",
   "execution_count": 17,
   "metadata": {},
   "outputs": [
    {
     "data": {
      "image/png": "[encoded data removed]",
      "text/plain": [
       "<Figure size 576x360 with 1 Axes>"
      ]
     },
     "metadata": {
      "needs_background": "light"
     },
     "output_type": "display_data"
    }
   ],
   "source": [
    "plt.figure(figsize=(8, 5))\n",
    "plt.grid(linestyle='dashed', linewidth=2, zorder=0)\n",
    "plt.hist(x, color='g', alpha=0.85, zorder=2)\n",
    "plt.title(\"My Distribution\")\n",
    "plt.ylabel(\"Counts\")\n",
    "plt.xlabel(\"Values\")\n",
    "plt.show()"
   ]
  },
  {
   "cell_type": "markdown",
   "metadata": {},
   "source": [
    "### docstrings "
   ]
  },
  {
   "cell_type": "code",
   "execution_count": 23,
   "metadata": {},
   "outputs": [],
   "source": [
    "def plot_function(x, figsize=(8, 5), grid_linestyle = 'dashed', grid_linewidth=2, title=\"My Distribution\"):\n",
    "    \"\"\"\n",
    "    Parameters\n",
    "    x : data lst or numpy array\n",
    "    grid_linestyle: kwarg of matplotlib for linestyle for grid\n",
    "    grid_linewidth: kwarg of matploblib for linewidth for grid\n",
    "    title: title for your histogram plot\n",
    "    \n",
    "    returns Nothing, but displays Matplotlib Histogram\n",
    "    \"\"\"\n",
    "    plt.figure(figsize=figsize)\n",
    "    plt.grid(linestyle=grid_linestyle, linewidth=grid_linewidth, zorder=0)\n",
    "    plt.hist(x, color='g', alpha=0.85, zorder=2)\n",
    "    plt.title(title)\n",
    "    plt.ylabel(\"Counts\")\n",
    "    plt.xlabel(\"Values\")\n",
    "    plt.show()"
   ]
  },
  {
   "cell_type": "code",
   "execution_count": 21,
   "metadata": {},
   "outputs": [
    {
     "data": {
      "image/png": "[encoded data removed]",
      "text/plain": [
       "<Figure size 936x576 with 1 Axes>"
      ]
     },
     "metadata": {
      "needs_background": "light"
     },
     "output_type": "display_data"
    }
   ],
   "source": [
    "plot_function(x, figsize=(13, 8))"
   ]
  },
  {
   "cell_type": "markdown",
   "metadata": {},
   "source": [
    "### Assessment\n",
    "\n",
    "What is the purpose of version control?\n",
    "* keep a working file (so it doesn't break)\n",
    "* merge changes after testing\n",
    "* maintains the health of codebase\n",
    "\n",
    "\n",
    "What is pep-8?\n",
    "* formatting guide for python\n",
    "\n",
    "\n",
    "Should we use pep-8? I'm kinda curious what y'all think.\n",
    "* should code be dependent on pep-8 standards?\n",
    "* standards like pep-8 make sense\n",
    "* lines shouldn't be longer than 79 characters"
   ]
  }
 ],
 "metadata": {
  "kernelspec": {
   "display_name": "Python 3",
   "language": "python",
   "name": "python3"
  },
  "language_info": {
   "codemirror_mode": {
    "name": "ipython",
    "version": 3
   },
   "file_extension": ".py",
   "mimetype": "text/x-python",
   "name": "python",
   "nbconvert_exporter": "python",
   "pygments_lexer": "ipython3",
   "version": "3.6.6"
  }
 },
 "nbformat": 4,
 "nbformat_minor": 2
}
