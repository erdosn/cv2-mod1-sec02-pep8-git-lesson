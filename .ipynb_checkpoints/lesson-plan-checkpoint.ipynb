{
 "cells": [
  {
   "cell_type": "markdown",
   "metadata": {},
   "source": [
    "### Questions\n",
    "* MacBeth Project in Section 02\n",
    "* defining the terms in git\n",
    "    * add vs merge vs push\n",
    "* forks\n",
    "* checkouts"
   ]
  },
  {
   "cell_type": "markdown",
   "metadata": {},
   "source": [
    "### Objectives\n",
    "YWBAT\n",
    "* define pep8 standards\n",
    "    * code of conduct of code\n",
    "    * standard way of writing code in python\n",
    "    * standard format for python code\n",
    "    * makes things easier to read and understand\n",
    "    * use pep8 because other people might look at our code and we want them to feel at home. \n",
    "* find some tools online that will autopep8 your code\n",
    "* define git\n",
    "* perform branching and merges in git (remotely)\n",
    "* compare and contrast git commit to git push"
   ]
  },
  {
   "cell_type": "markdown",
   "metadata": {},
   "source": [
    "### Outline\n",
    "* Git stuff \n",
    "* Pep-8"
   ]
  },
  {
   "cell_type": "code",
   "execution_count": 12,
   "metadata": {},
   "outputs": [],
   "source": [
    "# simple imports go at the top\n",
    "import math\n",
    "import json\n",
    "\n",
    "import pandas as pd\n",
    "import numpy as np\n",
    "import scipy.stats as scs\n",
    "\n",
    "from time import time\n",
    "\n",
    "from sklearn.linear_model import LinearRegression\n",
    "from sklearn.model_selection import train_test_split, GroupKFold\n",
    "\n",
    "\n",
    "\n",
    "# visualization tools go at the bottom, typically\n",
    "import matplotlib.pyplot as plt\n",
    "import seaborn as sns"
   ]
  },
  {
   "cell_type": "markdown",
   "metadata": {},
   "source": [
    "# Pep 8 Standards (Because we aren't newbs)\n",
    "\n",
    "![](images/pep8.jpg)"
   ]
  },
  {
   "cell_type": "markdown",
   "metadata": {},
   "source": [
    "What is an IDE? (Interactive Development Environment)\n",
    "- It's a piece of software where you can write code"
   ]
  },
  {
   "cell_type": "markdown",
   "metadata": {},
   "source": [
    "Install Jupyter Notebook Extensions Here:\n",
    " \n",
    "`conda install -c conda-forge jupyter_contrib_nbextensions`"
   ]
  },
  {
   "cell_type": "code",
   "execution_count": 1,
   "metadata": {},
   "outputs": [],
   "source": [
    "class myClass:\n",
    "    def __init__(self):\n",
    "        pass\n",
    "\n",
    "    \n",
    "    def function1():\n",
    "        return None"
   ]
  },
  {
   "cell_type": "code",
   "execution_count": 3,
   "metadata": {},
   "outputs": [
    {
     "name": "stdout",
     "output_type": "stream",
     "text": [
      "7\n"
     ]
    }
   ],
   "source": [
    "x = 3\n",
    "y = 4\n",
    "print(x+y)"
   ]
  },
  {
   "cell_type": "code",
   "execution_count": 5,
   "metadata": {},
   "outputs": [
    {
     "name": "stdout",
     "output_type": "stream",
     "text": [
      "7\n"
     ]
    }
   ],
   "source": [
    "# let's reformat the cell above for pep8 standards\n",
    "x = 3\n",
    "y = 4\n",
    "\n",
    "print(x + y)"
   ]
  },
  {
   "cell_type": "code",
   "execution_count": 7,
   "metadata": {},
   "outputs": [],
   "source": [
    "# let's reformat this function\n",
    "def NewFunction(a, b):\n",
    "    return(a * b)\n",
    "\n",
    "\n",
    "def new_function(a, b):\n",
    "    return a*b"
   ]
  },
  {
   "cell_type": "code",
   "execution_count": 10,
   "metadata": {},
   "outputs": [],
   "source": [
    "class my_class():\n",
    "    \n",
    "    def myFunction(self, a=4, b=3):\n",
    "        return a*b\n",
    "    \n",
    "    \n",
    "# reformatting the class above for pep8 we get\n",
    "\n",
    "class MyClass():\n",
    "\n",
    "    def my_function(self, a=4, b=3):\n",
    "        return a*b"
   ]
  },
  {
   "cell_type": "markdown",
   "metadata": {},
   "source": [
    "### Assessment"
   ]
  },
  {
   "cell_type": "code",
   "execution_count": null,
   "metadata": {},
   "outputs": [],
   "source": []
  }
 ],
 "metadata": {
  "kernelspec": {
   "display_name": "Python 3",
   "language": "python",
   "name": "python3"
  },
  "language_info": {
   "codemirror_mode": {
    "name": "ipython",
    "version": 3
   },
   "file_extension": ".py",
   "mimetype": "text/x-python",
   "name": "python",
   "nbconvert_exporter": "python",
   "pygments_lexer": "ipython3",
   "version": "3.7.0"
  }
 },
 "nbformat": 4,
 "nbformat_minor": 2
}
